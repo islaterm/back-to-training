{
 "cells": [
  {
   "source": [
    "## Last layer derivative\n",
    "\n",
    "Let $S(T)$ be the softmax function of a tensor $T$.\n",
    "The derivative of $S$ is given by:\n",
    "$$\n",
    "  \\begin{aligned}\n",
    "    \\frac{\\partial}{\\partial T_j} S_i(T_j)\n",
    "      &= \\frac{\\partial}{\\partial T_j} \\frac{e^{T_i}}{\\sum_k e^{T_k}} \\\\\n",
    "      &= \\begin{cases}\n",
    "        \\frac{e^{T_i}\\sum_k e^{T_k} - e^{T_j} e^{T_i}}{(\\sum e^{t_k})^2} &\\text{ if } i = j  \\\\\n",
    "        \\frac{0 - e^{T_j} e^{T_i}}{(\\sum e^{t_k})^2} &\\text{ otherwise}\n",
    "      \\end{cases} \\\\\n",
    "      &= \\begin{cases}\n",
    "        \\frac{e^{T_i}\\left(\\sum_k e^{T_k} - e^{T_j}\\right)}{(\\sum e^{t_k})^2} &\\text{ if } i = j  \\\\\n",
    "        \\frac{e^{T_j}}{\\sum e^{t_k}}\\frac{e^{T_i}}{\\sum e^{t_k}} &\\text{ otherwise}\n",
    "      \\end{cases} \\\\\n",
    "      &= \\begin{cases}\n",
    "        S_i(T_j)(1 - S_j(T_j)) &\\text{ if } i = j  \\\\\n",
    "        -S_i(T_j) \\cdot S_j(T_j) &\\text{ otherwise}\n",
    "      \\end{cases}\n",
    "  \\end{aligned}\n",
    "$$\n",
    "\n",
    "Now we can compute the derivative of the last layer as:\n",
    "$$\n",
    "  \\begin{aligned}\n",
    "    \\frac{\\partial \\mathcal{L}}{\\partial u^{(L + 1)}}(y, \\hat{y})\n",
    "      &= - \\frac{1}{N} \\frac{\\partial}{\\partial u^{(L + 1)}} \\sum_i y_i \\log \\hat{y}_i  \\\\\n",
    "      &= - \\frac{1}{N} \\sum_i y_i  \\frac{\\partial}{\\partial u^{(L + 1)}} \\log \\hat{y}_i \\\\\n",
    "      &= - \\frac{1}{N} \\sum_i y_i  \\frac{\\partial}{\\partial \\hat{y}_i} \\log \\hat{y}_i\n",
    "        \\frac{\\partial}{\\partial u^{(L + 1)}} S_i\\left(u^{(L + 1)}\\right) \\\\\n",
    "      &= - \\frac{1}{N} \\sum_i y_i  \\frac{1}{\\hat{y}_i}\n",
    "        \\frac{\\partial}{\\partial u^{(L + 1)}} S_i\\left(u^{(L + 1)}\\right) \\\\\n",
    "      &= - \\frac{1}{N} \\left(\n",
    "          y(1 - \\hat{y}) - \\sum_i y_i \\frac{1}{\\hat{y}_i} (-\\hat{y}_i \\cdot \\hat{y})\n",
    "        \\right) \\\\\n",
    "      &= - \\frac{1}{N} \\left(y + y \\cdot \\hat{y} + \\sum_i y_i \\hat{y}\\right) \\\\\n",
    "      &= \\frac{1}{N} \\left(\\hat {y} \\left(y + \\sum_i y_i\\right) - y \\right) \\\\\n",
    "      &= \\frac{1}{N} (\\hat{y} - y)\n",
    "  \\end{aligned}\n",
    "$$\n",
    "\n"
   ],
   "cell_type": "markdown",
   "metadata": {
    "collapsed": true
   }
  },
  {
   "source": [
    "## Last layer derivative (cont.)"
   ],
   "cell_type": "markdown",
   "metadata": {}
  },
  {
   "source": [
    "## Last layer derivative (cont.)\n",
    "\n",
    "Considering that $u^{(L + 1)} = h^{(L)} U + c$ and $\\hat{y} = S(u^{(L + 1)})$.\n",
    "We can compute the following derivatives:\n",
    "\n",
    "$$\n",
    "  \\begin{aligned}\n",
    "    \\frac{\\partial \\mathcal{L}}{\\partial U}\n",
    "      &= \\frac{\\partial \\mathcal{L}}{\\partial u^{(L + 1)}}\n",
    "        \\cdot \\frac{\\partial u^{(L + 1)}}{\\partial U} \\\\\n",
    "      &= \\frac{\\partial \\mathcal{L}}{\\partial u^{(L + 1)}} \n",
    "        \\cdot \\frac{\\partial}{\\partial U} (h^{(L)} U + c) \\\\\n",
    "      &= \\frac{\\partial \\mathcal{L}}{\\partial u^{(L + 1)}} h^{(L)}\n",
    "  \\end{aligned}\n",
    "$$\n",
    "\n",
    "$$\n",
    "  \\begin{aligned}\n",
    "    \\frac{\\partial\\mathcal L}{\\partial c} \n",
    "      &= \\frac{\\partial \\mathcal{L}}{\\partial u^{(L + 1)}}\n",
    "        \\cdot \\frac{\\partial u^{(L + 1)}}{\\partial c} \\\\\n",
    "      &= \\frac{\\partial \\mathcal{L}}{\\partial u^{(L + 1)}}\n",
    "        \\cdot \\frac{\\partial}{\\partial c} (h^{(L)} U + c) \\\\\n",
    "      &= \\frac{\\partial \\mathcal{L}}{\\partial u^{(L + 1)}}\n",
    "  \\end{aligned}\n",
    "$$\n",
    "\n",
    "$$\n",
    "  \\begin{aligned}\n",
    "    \\frac{\\partial\\mathcal L}{\\partial h^{(L)}} \n",
    "      &= \\frac{\\partial \\mathcal{L}}{\\partial u^{(L + 1)}}\n",
    "        \\cdot \\frac{\\partial u^{(L + 1)}}{\\partial h^{(L)}} \\\\\n",
    "      &= \\frac{\\partial \\mathcal{L}}{\\partial u^{(L + 1)}}\n",
    "        \\cdot \\frac{\\partial}{\\partial h^{(L)}} (h^{(L)} U + c) \\\\\n",
    "      &= \\frac{\\partial \\mathcal{L}}{\\partial u^{(L + 1)}} \\cdot U\n",
    "  \\end{aligned}\n",
    "$$"
   ],
   "cell_type": "markdown",
   "metadata": {}
  },
  {
   "source": [
    "## Derivative of the hidden layers"
   ],
   "cell_type": "markdown",
   "metadata": {}
  }
 ],
 "metadata": {
  "kernelspec": {
   "display_name": "Python 3",
   "language": "python",
   "name": "python3"
  },
  "language_info": {
   "codemirror_mode": {
    "name": "ipython",
    "version": 2
   },
   "file_extension": ".py",
   "mimetype": "text/x-python",
   "name": "python",
   "nbconvert_exporter": "python",
   "pygments_lexer": "ipython2",
   "version": "2.7.6"
  }
 },
 "nbformat": 4,
 "nbformat_minor": 0
}